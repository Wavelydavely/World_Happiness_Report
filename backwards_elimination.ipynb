{
  "nbformat": 4,
  "nbformat_minor": 0,
  "metadata": {
    "colab": {
      "name": "backwards_elimination.ipynb",
      "provenance": [],
      "collapsed_sections": [],
      "include_colab_link": true
    },
    "kernelspec": {
      "name": "python3",
      "display_name": "Python 3"
    },
    "language_info": {
      "name": "python"
    }
  },
  "cells": [
    {
      "cell_type": "markdown",
      "metadata": {
        "id": "view-in-github",
        "colab_type": "text"
      },
      "source": [
        "<a href=\"https://colab.research.google.com/github/Wavelydavely/World_Happiness_Report/blob/test_lili/backwards_elimination.ipynb\" target=\"_parent\"><img src=\"https://colab.research.google.com/assets/colab-badge.svg\" alt=\"Open In Colab\"/></a>"
      ]
    },
    {
      "cell_type": "code",
      "metadata": {
        "id": "Pc1d-P0pNtPV",
        "colab": {
          "base_uri": "https://localhost:8080/",
          "height": 549
        },
        "outputId": "c223b125-9a2a-47d7-82fe-c299b03ad6ee"
      },
      "source": [
        "# Import our dependencies\n",
        "from sklearn.model_selection import train_test_split\n",
        "from sklearn.preprocessing import StandardScaler,OneHotEncoder, LabelEncoder\n",
        "\n",
        "from sklearn.linear_model import LinearRegression\n",
        "\n",
        "# Importing the libraries\n",
        "import numpy as np\n",
        "import matplotlib.pyplot as plt\n",
        "\n",
        "#  Import and read the csv.\n",
        "import pandas as pd \n",
        "happiness_df = pd.read_csv(\"World_Happiness_Report_2021.csv\")\n",
        "happiness_df.head(10)"
      ],
      "execution_count": 2,
      "outputs": [
        {
          "output_type": "execute_result",
          "data": {
            "text/html": [
              "<div>\n",
              "<style scoped>\n",
              "    .dataframe tbody tr th:only-of-type {\n",
              "        vertical-align: middle;\n",
              "    }\n",
              "\n",
              "    .dataframe tbody tr th {\n",
              "        vertical-align: top;\n",
              "    }\n",
              "\n",
              "    .dataframe thead th {\n",
              "        text-align: right;\n",
              "    }\n",
              "</style>\n",
              "<table border=\"1\" class=\"dataframe\">\n",
              "  <thead>\n",
              "    <tr style=\"text-align: right;\">\n",
              "      <th></th>\n",
              "      <th>Country</th>\n",
              "      <th>Year</th>\n",
              "      <th>World_Region</th>\n",
              "      <th>Happiness_Score</th>\n",
              "      <th>Economic_Production</th>\n",
              "      <th>Social_Support</th>\n",
              "      <th>Life_Expectancy</th>\n",
              "      <th>Freedom</th>\n",
              "      <th>Generosity</th>\n",
              "      <th>Perceptions_of_Corruption</th>\n",
              "    </tr>\n",
              "  </thead>\n",
              "  <tbody>\n",
              "    <tr>\n",
              "      <th>0</th>\n",
              "      <td>Finland</td>\n",
              "      <td>2021</td>\n",
              "      <td>Western Europe</td>\n",
              "      <td>7.842</td>\n",
              "      <td>10.775</td>\n",
              "      <td>0.954</td>\n",
              "      <td>72.0</td>\n",
              "      <td>0.949</td>\n",
              "      <td>-0.098</td>\n",
              "      <td>0.186</td>\n",
              "    </tr>\n",
              "    <tr>\n",
              "      <th>1</th>\n",
              "      <td>Denmark</td>\n",
              "      <td>2021</td>\n",
              "      <td>Western Europe</td>\n",
              "      <td>7.620</td>\n",
              "      <td>10.933</td>\n",
              "      <td>0.954</td>\n",
              "      <td>72.7</td>\n",
              "      <td>0.946</td>\n",
              "      <td>0.030</td>\n",
              "      <td>0.179</td>\n",
              "    </tr>\n",
              "    <tr>\n",
              "      <th>2</th>\n",
              "      <td>Switzerland</td>\n",
              "      <td>2021</td>\n",
              "      <td>Western Europe</td>\n",
              "      <td>7.571</td>\n",
              "      <td>11.117</td>\n",
              "      <td>0.942</td>\n",
              "      <td>74.4</td>\n",
              "      <td>0.919</td>\n",
              "      <td>0.025</td>\n",
              "      <td>0.292</td>\n",
              "    </tr>\n",
              "    <tr>\n",
              "      <th>3</th>\n",
              "      <td>Iceland</td>\n",
              "      <td>2021</td>\n",
              "      <td>Western Europe</td>\n",
              "      <td>7.554</td>\n",
              "      <td>10.878</td>\n",
              "      <td>0.983</td>\n",
              "      <td>73.0</td>\n",
              "      <td>0.955</td>\n",
              "      <td>0.160</td>\n",
              "      <td>0.673</td>\n",
              "    </tr>\n",
              "    <tr>\n",
              "      <th>4</th>\n",
              "      <td>Netherlands</td>\n",
              "      <td>2021</td>\n",
              "      <td>Western Europe</td>\n",
              "      <td>7.464</td>\n",
              "      <td>10.932</td>\n",
              "      <td>0.942</td>\n",
              "      <td>72.4</td>\n",
              "      <td>0.913</td>\n",
              "      <td>0.175</td>\n",
              "      <td>0.338</td>\n",
              "    </tr>\n",
              "    <tr>\n",
              "      <th>5</th>\n",
              "      <td>Norway</td>\n",
              "      <td>2021</td>\n",
              "      <td>Western Europe</td>\n",
              "      <td>7.392</td>\n",
              "      <td>11.053</td>\n",
              "      <td>0.954</td>\n",
              "      <td>73.3</td>\n",
              "      <td>0.960</td>\n",
              "      <td>0.093</td>\n",
              "      <td>0.270</td>\n",
              "    </tr>\n",
              "    <tr>\n",
              "      <th>6</th>\n",
              "      <td>Sweden</td>\n",
              "      <td>2021</td>\n",
              "      <td>Western Europe</td>\n",
              "      <td>7.363</td>\n",
              "      <td>10.867</td>\n",
              "      <td>0.934</td>\n",
              "      <td>72.7</td>\n",
              "      <td>0.945</td>\n",
              "      <td>0.086</td>\n",
              "      <td>0.237</td>\n",
              "    </tr>\n",
              "    <tr>\n",
              "      <th>7</th>\n",
              "      <td>Luxembourg</td>\n",
              "      <td>2021</td>\n",
              "      <td>Western Europe</td>\n",
              "      <td>7.324</td>\n",
              "      <td>11.647</td>\n",
              "      <td>0.908</td>\n",
              "      <td>72.6</td>\n",
              "      <td>0.907</td>\n",
              "      <td>-0.034</td>\n",
              "      <td>0.386</td>\n",
              "    </tr>\n",
              "    <tr>\n",
              "      <th>8</th>\n",
              "      <td>New Zealand</td>\n",
              "      <td>2021</td>\n",
              "      <td>North America and ANZ</td>\n",
              "      <td>7.277</td>\n",
              "      <td>10.643</td>\n",
              "      <td>0.948</td>\n",
              "      <td>73.4</td>\n",
              "      <td>0.929</td>\n",
              "      <td>0.134</td>\n",
              "      <td>0.242</td>\n",
              "    </tr>\n",
              "    <tr>\n",
              "      <th>9</th>\n",
              "      <td>Austria</td>\n",
              "      <td>2021</td>\n",
              "      <td>Western Europe</td>\n",
              "      <td>7.268</td>\n",
              "      <td>10.906</td>\n",
              "      <td>0.934</td>\n",
              "      <td>73.3</td>\n",
              "      <td>0.908</td>\n",
              "      <td>0.042</td>\n",
              "      <td>0.481</td>\n",
              "    </tr>\n",
              "  </tbody>\n",
              "</table>\n",
              "</div>"
            ],
            "text/plain": [
              "       Country  Year  ... Generosity  Perceptions_of_Corruption\n",
              "0      Finland  2021  ...     -0.098                      0.186\n",
              "1      Denmark  2021  ...      0.030                      0.179\n",
              "2  Switzerland  2021  ...      0.025                      0.292\n",
              "3      Iceland  2021  ...      0.160                      0.673\n",
              "4  Netherlands  2021  ...      0.175                      0.338\n",
              "5       Norway  2021  ...      0.093                      0.270\n",
              "6       Sweden  2021  ...      0.086                      0.237\n",
              "7   Luxembourg  2021  ...     -0.034                      0.386\n",
              "8  New Zealand  2021  ...      0.134                      0.242\n",
              "9      Austria  2021  ...      0.042                      0.481\n",
              "\n",
              "[10 rows x 10 columns]"
            ]
          },
          "metadata": {
            "tags": []
          },
          "execution_count": 2
        }
      ]
    },
    {
      "cell_type": "code",
      "metadata": {
        "id": "PU1IIS3ZOEcH"
      },
      "source": [
        "# Split our preprocessed data into our features and target arrays\n",
        "y = happiness_df[\"Happiness_Score\"] # y = dependent = ladder score\n",
        "X = happiness_df[[\"Economic_Production\", \"Social_Support\", \"Life_Expectancy\", \"Freedom\", \"Generosity\", \"Perceptions_of_Corruption\"]] # X = independent = any other variable\n",
        "\n",
        "# Split the preprocessed data into a training and testing dataset\n",
        "X_train, X_test, y_train, y_test = train_test_split(X, y, random_state=78, test_size=0.3)"
      ],
      "execution_count": 4,
      "outputs": []
    },
    {
      "cell_type": "code",
      "metadata": {
        "id": "u_Nc_UyHPo0v"
      },
      "source": [
        "# preprocess strings. one hot in coder\n",
        "# Create a StandardScaler instances\n",
        "scaler = StandardScaler()\n",
        "\n",
        "# Fit the StandardScaler\n",
        "X_scaler = scaler.fit(X_train)\n",
        "\n",
        "# Scale the data\n",
        "X_train_scaled = X_scaler.transform(X_train)\n",
        "X_test_scaled = X_scaler.transform(X_test)"
      ],
      "execution_count": 5,
      "outputs": []
    },
    {
      "cell_type": "code",
      "metadata": {
        "id": "jsaFxwnOOsrC",
        "colab": {
          "base_uri": "https://localhost:8080/"
        },
        "outputId": "a3c647d5-44a7-4a18-8e68-2ee9736d65d5"
      },
      "source": [
        "# Introduce regressor\n",
        "regressor = LinearRegression()\n",
        "regressor.fit(X_train, y_train)"
      ],
      "execution_count": 6,
      "outputs": [
        {
          "output_type": "execute_result",
          "data": {
            "text/plain": [
              "LinearRegression(copy_X=True, fit_intercept=True, n_jobs=None, normalize=False)"
            ]
          },
          "metadata": {
            "tags": []
          },
          "execution_count": 6
        }
      ]
    },
    {
      "cell_type": "code",
      "metadata": {
        "colab": {
          "base_uri": "https://localhost:8080/"
        },
        "id": "4A_skZTnD0Aj",
        "outputId": "6389dbeb-7dc5-4404-c7b7-7dde1ecc4673"
      },
      "source": [
        "# Print the intercept and coefficients\n",
        "print(\"Intercept: \", regressor.intercept_)\n",
        "print(\"Coefficients:\")\n",
        "list(zip(X, regressor.coef_))"
      ],
      "execution_count": 7,
      "outputs": [
        {
          "output_type": "stream",
          "text": [
            "Intercept:  -3.2863681865789367\n",
            "Coefficients:\n"
          ],
          "name": "stdout"
        },
        {
          "output_type": "execute_result",
          "data": {
            "text/plain": [
              "[('Economic_Production', 0.26698479015522897),\n",
              " ('Social_Support', 2.836910157932162),\n",
              " ('Life_Expectancy', 0.0357122158599017),\n",
              " ('Freedom', 2.322455127217586),\n",
              " ('Generosity', 0.6134483778329275),\n",
              " ('Perceptions_of_Corruption', -0.2294828829935673)]"
            ]
          },
          "metadata": {
            "tags": []
          },
          "execution_count": 7
        }
      ]
    },
    {
      "cell_type": "code",
      "metadata": {
        "id": "5Fc9QmBlcEMc"
      },
      "source": [
        "# Create vector of predictions\n",
        "y_pred = regressor.predict(X_test)"
      ],
      "execution_count": 8,
      "outputs": []
    },
    {
      "cell_type": "code",
      "metadata": {
        "id": "h1dALulscRSK",
        "colab": {
          "base_uri": "https://localhost:8080/"
        },
        "outputId": "342257a4-19e0-4a7b-c04c-f3444fe43cd4"
      },
      "source": [
        "print(f\"Prediction: {y_pred}\")"
      ],
      "execution_count": 9,
      "outputs": [
        {
          "output_type": "stream",
          "text": [
            "Prediction: [5.22293702 3.82553433 4.61790206 5.8712758  5.0631551  5.29472032\n",
            " 4.69029587 6.10254018 5.80605036 5.38465595 4.77353665 5.97214325\n",
            " 5.79510235 6.35534589 6.2813558  5.69202394 5.71187419 6.12388105\n",
            " 6.32821389 6.33520764 5.91024469 4.16565021 4.26227754 5.80137922\n",
            " 5.62234855 6.30062846 6.00497903 6.98885412 3.35167221 4.99471359\n",
            " 3.08203224 4.50764543 3.79946245 5.43773302 6.52651079 7.04043312\n",
            " 4.43295438 7.09372342 5.66938269 6.56358101 5.54715199 5.31138185\n",
            " 3.83171724 5.97895884 5.51696496]\n"
          ],
          "name": "stdout"
        }
      ]
    },
    {
      "cell_type": "code",
      "metadata": {
        "colab": {
          "base_uri": "https://localhost:8080/",
          "height": 1000
        },
        "id": "64YJEaV8g2_F",
        "outputId": "a2fddddb-dbfc-4e65-8472-3e47782b3955"
      },
      "source": [
        "# Show actual value with predicted value\n",
        "regressor_diff = pd.DataFrame({'Actual value': y_test, 'Predicted value': y_pred})\n",
        "real_values = regressor_diff.sort_values('Actual value', ascending=False)\n",
        "real_values"
      ],
      "execution_count": 10,
      "outputs": [
        {
          "output_type": "execute_result",
          "data": {
            "text/html": [
              "<div>\n",
              "<style scoped>\n",
              "    .dataframe tbody tr th:only-of-type {\n",
              "        vertical-align: middle;\n",
              "    }\n",
              "\n",
              "    .dataframe tbody tr th {\n",
              "        vertical-align: top;\n",
              "    }\n",
              "\n",
              "    .dataframe thead th {\n",
              "        text-align: right;\n",
              "    }\n",
              "</style>\n",
              "<table border=\"1\" class=\"dataframe\">\n",
              "  <thead>\n",
              "    <tr style=\"text-align: right;\">\n",
              "      <th></th>\n",
              "      <th>Actual value</th>\n",
              "      <th>Predicted value</th>\n",
              "    </tr>\n",
              "  </thead>\n",
              "  <tbody>\n",
              "    <tr>\n",
              "      <th>2</th>\n",
              "      <td>7.571</td>\n",
              "      <td>7.093723</td>\n",
              "    </tr>\n",
              "    <tr>\n",
              "      <th>4</th>\n",
              "      <td>7.464</td>\n",
              "      <td>7.040433</td>\n",
              "    </tr>\n",
              "    <tr>\n",
              "      <th>7</th>\n",
              "      <td>7.324</td>\n",
              "      <td>6.988854</td>\n",
              "    </tr>\n",
              "    <tr>\n",
              "      <th>15</th>\n",
              "      <td>7.069</td>\n",
              "      <td>6.335208</td>\n",
              "    </tr>\n",
              "    <tr>\n",
              "      <th>19</th>\n",
              "      <td>6.834</td>\n",
              "      <td>6.328214</td>\n",
              "    </tr>\n",
              "    <tr>\n",
              "      <th>21</th>\n",
              "      <td>6.647</td>\n",
              "      <td>6.526511</td>\n",
              "    </tr>\n",
              "    <tr>\n",
              "      <th>30</th>\n",
              "      <td>6.431</td>\n",
              "      <td>6.355346</td>\n",
              "    </tr>\n",
              "    <tr>\n",
              "      <th>33</th>\n",
              "      <td>6.331</td>\n",
              "      <td>6.102540</td>\n",
              "    </tr>\n",
              "    <tr>\n",
              "      <th>34</th>\n",
              "      <td>6.330</td>\n",
              "      <td>5.801379</td>\n",
              "    </tr>\n",
              "    <tr>\n",
              "      <th>39</th>\n",
              "      <td>6.189</td>\n",
              "      <td>6.563581</td>\n",
              "    </tr>\n",
              "    <tr>\n",
              "      <th>42</th>\n",
              "      <td>6.172</td>\n",
              "      <td>5.910245</td>\n",
              "    </tr>\n",
              "    <tr>\n",
              "      <th>50</th>\n",
              "      <td>6.032</td>\n",
              "      <td>5.871276</td>\n",
              "    </tr>\n",
              "    <tr>\n",
              "      <th>53</th>\n",
              "      <td>5.985</td>\n",
              "      <td>6.281356</td>\n",
              "    </tr>\n",
              "    <tr>\n",
              "      <th>56</th>\n",
              "      <td>5.929</td>\n",
              "      <td>6.004979</td>\n",
              "    </tr>\n",
              "    <tr>\n",
              "      <th>57</th>\n",
              "      <td>5.929</td>\n",
              "      <td>6.300628</td>\n",
              "    </tr>\n",
              "    <tr>\n",
              "      <th>61</th>\n",
              "      <td>5.845</td>\n",
              "      <td>5.806050</td>\n",
              "    </tr>\n",
              "    <tr>\n",
              "      <th>63</th>\n",
              "      <td>5.813</td>\n",
              "      <td>5.669383</td>\n",
              "    </tr>\n",
              "    <tr>\n",
              "      <th>70</th>\n",
              "      <td>5.653</td>\n",
              "      <td>5.972143</td>\n",
              "    </tr>\n",
              "    <tr>\n",
              "      <th>71</th>\n",
              "      <td>5.581</td>\n",
              "      <td>5.692024</td>\n",
              "    </tr>\n",
              "    <tr>\n",
              "      <th>74</th>\n",
              "      <td>5.534</td>\n",
              "      <td>5.547152</td>\n",
              "    </tr>\n",
              "    <tr>\n",
              "      <th>75</th>\n",
              "      <td>5.477</td>\n",
              "      <td>5.711874</td>\n",
              "    </tr>\n",
              "    <tr>\n",
              "      <th>79</th>\n",
              "      <td>5.410</td>\n",
              "      <td>5.437733</td>\n",
              "    </tr>\n",
              "    <tr>\n",
              "      <th>80</th>\n",
              "      <td>5.384</td>\n",
              "      <td>6.123881</td>\n",
              "    </tr>\n",
              "    <tr>\n",
              "      <th>82</th>\n",
              "      <td>5.342</td>\n",
              "      <td>4.165650</td>\n",
              "    </tr>\n",
              "    <tr>\n",
              "      <th>87</th>\n",
              "      <td>5.266</td>\n",
              "      <td>5.978959</td>\n",
              "    </tr>\n",
              "    <tr>\n",
              "      <th>89</th>\n",
              "      <td>5.171</td>\n",
              "      <td>5.622349</td>\n",
              "    </tr>\n",
              "    <tr>\n",
              "      <th>91</th>\n",
              "      <td>5.132</td>\n",
              "      <td>4.432954</td>\n",
              "    </tr>\n",
              "    <tr>\n",
              "      <th>92</th>\n",
              "      <td>5.117</td>\n",
              "      <td>5.294720</td>\n",
              "    </tr>\n",
              "    <tr>\n",
              "      <th>98</th>\n",
              "      <td>5.045</td>\n",
              "      <td>3.799462</td>\n",
              "    </tr>\n",
              "    <tr>\n",
              "      <th>99</th>\n",
              "      <td>5.030</td>\n",
              "      <td>5.311382</td>\n",
              "    </tr>\n",
              "    <tr>\n",
              "      <th>107</th>\n",
              "      <td>4.891</td>\n",
              "      <td>4.994714</td>\n",
              "    </tr>\n",
              "    <tr>\n",
              "      <th>110</th>\n",
              "      <td>4.854</td>\n",
              "      <td>4.690296</td>\n",
              "    </tr>\n",
              "    <tr>\n",
              "      <th>113</th>\n",
              "      <td>4.830</td>\n",
              "      <td>5.384656</td>\n",
              "    </tr>\n",
              "    <tr>\n",
              "      <th>114</th>\n",
              "      <td>4.794</td>\n",
              "      <td>4.617902</td>\n",
              "    </tr>\n",
              "    <tr>\n",
              "      <th>118</th>\n",
              "      <td>4.636</td>\n",
              "      <td>4.507645</td>\n",
              "    </tr>\n",
              "    <tr>\n",
              "      <th>119</th>\n",
              "      <td>4.625</td>\n",
              "      <td>4.262278</td>\n",
              "    </tr>\n",
              "    <tr>\n",
              "      <th>122</th>\n",
              "      <td>4.584</td>\n",
              "      <td>5.063155</td>\n",
              "    </tr>\n",
              "    <tr>\n",
              "      <th>124</th>\n",
              "      <td>4.517</td>\n",
              "      <td>4.773537</td>\n",
              "    </tr>\n",
              "    <tr>\n",
              "      <th>125</th>\n",
              "      <td>4.426</td>\n",
              "      <td>5.516965</td>\n",
              "    </tr>\n",
              "    <tr>\n",
              "      <th>126</th>\n",
              "      <td>4.395</td>\n",
              "      <td>5.222937</td>\n",
              "    </tr>\n",
              "    <tr>\n",
              "      <th>127</th>\n",
              "      <td>4.355</td>\n",
              "      <td>3.351672</td>\n",
              "    </tr>\n",
              "    <tr>\n",
              "      <th>128</th>\n",
              "      <td>4.325</td>\n",
              "      <td>5.795102</td>\n",
              "    </tr>\n",
              "    <tr>\n",
              "      <th>130</th>\n",
              "      <td>4.289</td>\n",
              "      <td>3.825534</td>\n",
              "    </tr>\n",
              "    <tr>\n",
              "      <th>139</th>\n",
              "      <td>3.775</td>\n",
              "      <td>3.082032</td>\n",
              "    </tr>\n",
              "    <tr>\n",
              "      <th>143</th>\n",
              "      <td>3.600</td>\n",
              "      <td>3.831717</td>\n",
              "    </tr>\n",
              "  </tbody>\n",
              "</table>\n",
              "</div>"
            ],
            "text/plain": [
              "     Actual value  Predicted value\n",
              "2           7.571         7.093723\n",
              "4           7.464         7.040433\n",
              "7           7.324         6.988854\n",
              "15          7.069         6.335208\n",
              "19          6.834         6.328214\n",
              "21          6.647         6.526511\n",
              "30          6.431         6.355346\n",
              "33          6.331         6.102540\n",
              "34          6.330         5.801379\n",
              "39          6.189         6.563581\n",
              "42          6.172         5.910245\n",
              "50          6.032         5.871276\n",
              "53          5.985         6.281356\n",
              "56          5.929         6.004979\n",
              "57          5.929         6.300628\n",
              "61          5.845         5.806050\n",
              "63          5.813         5.669383\n",
              "70          5.653         5.972143\n",
              "71          5.581         5.692024\n",
              "74          5.534         5.547152\n",
              "75          5.477         5.711874\n",
              "79          5.410         5.437733\n",
              "80          5.384         6.123881\n",
              "82          5.342         4.165650\n",
              "87          5.266         5.978959\n",
              "89          5.171         5.622349\n",
              "91          5.132         4.432954\n",
              "92          5.117         5.294720\n",
              "98          5.045         3.799462\n",
              "99          5.030         5.311382\n",
              "107         4.891         4.994714\n",
              "110         4.854         4.690296\n",
              "113         4.830         5.384656\n",
              "114         4.794         4.617902\n",
              "118         4.636         4.507645\n",
              "119         4.625         4.262278\n",
              "122         4.584         5.063155\n",
              "124         4.517         4.773537\n",
              "125         4.426         5.516965\n",
              "126         4.395         5.222937\n",
              "127         4.355         3.351672\n",
              "128         4.325         5.795102\n",
              "130         4.289         3.825534\n",
              "139         3.775         3.082032\n",
              "143         3.600         3.831717"
            ]
          },
          "metadata": {
            "tags": []
          },
          "execution_count": 10
        }
      ]
    },
    {
      "cell_type": "code",
      "metadata": {
        "colab": {
          "base_uri": "https://localhost:8080/"
        },
        "id": "ybDylU5BhA0k",
        "outputId": "efe33a63-3704-46b2-b553-731fa4be0fa6"
      },
      "source": [
        "#Model Evaluation\n",
        "from sklearn import metrics\n",
        "MAE = metrics.mean_absolute_error(y_test, y_pred)\n",
        "MSE = metrics.mean_squared_error(y_test, y_pred)\n",
        "RMSE = np.sqrt(metrics.mean_squared_error(y_test, y_pred))\n",
        "print('R squared: {:.2f}'.format(regressor.score(X, y)))\n",
        "print('Mean Absolute Error:', MAE)\n",
        "print('Mean Square Error:', MSE)\n",
        "print('Root Mean Square Error:', RMSE)"
      ],
      "execution_count": 11,
      "outputs": [
        {
          "output_type": "stream",
          "text": [
            "R squared: 0.75\n",
            "Mean Absolute Error: 0.4299545696800916\n",
            "Mean Square Error: 0.30512012767410596\n",
            "Root Mean Square Error: 0.5523767986384891\n"
          ],
          "name": "stdout"
        }
      ]
    },
    {
      "cell_type": "markdown",
      "metadata": {
        "id": "A_igFrZO79Qa"
      },
      "source": [
        "Backward Elimination "
      ]
    },
    {
      "cell_type": "code",
      "metadata": {
        "id": "pocTNj0hqKgV",
        "colab": {
          "base_uri": "https://localhost:8080/"
        },
        "outputId": "042be8e4-7711-4b87-ef25-6fa1a6f96d1a"
      },
      "source": [
        "import statsmodels.api as smf  "
      ],
      "execution_count": 12,
      "outputs": [
        {
          "output_type": "stream",
          "text": [
            "/usr/local/lib/python3.7/dist-packages/statsmodels/tools/_testing.py:19: FutureWarning: pandas.util.testing is deprecated. Use the functions in the public API at pandas.testing instead.\n",
            "  import pandas.util.testing as tm\n"
          ],
          "name": "stderr"
        }
      ]
    },
    {
      "cell_type": "code",
      "metadata": {
        "id": "JKh5Tjiqqzsg"
      },
      "source": [
        " # Add a column of ones in our matrix of features\n",
        "X = np.append(arr = np.ones((149,1)).astype(int), axis=1, values=X)"
      ],
      "execution_count": 13,
      "outputs": []
    },
    {
      "cell_type": "code",
      "metadata": {
        "id": "V1u-aJU7rfdw"
      },
      "source": [
        "# Create matrix of optimal features (X_optimal) these features are statistically significant(have high impact on ladder score)\n",
        "X_optimal = X[:, [0, 1, 2, 3, 4, 5]]\n",
        "regressor_opt = smf.OLS(endog = y, exog = X_optimal).fit()\n"
      ],
      "execution_count": 14,
      "outputs": []
    },
    {
      "cell_type": "code",
      "metadata": {
        "id": "IyJ-PKS3s_na",
        "colab": {
          "base_uri": "https://localhost:8080/",
          "height": 528
        },
        "outputId": "1fa03434-3367-4cf9-f49b-64963b37fea9"
      },
      "source": [
        "# Summarize \n",
        "regressor_opt.summary()"
      ],
      "execution_count": 15,
      "outputs": [
        {
          "output_type": "execute_result",
          "data": {
            "text/html": [
              "<table class=\"simpletable\">\n",
              "<caption>OLS Regression Results</caption>\n",
              "<tr>\n",
              "  <th>Dep. Variable:</th>     <td>Happiness_Score</td> <th>  R-squared:         </th> <td>   0.748</td>\n",
              "</tr>\n",
              "<tr>\n",
              "  <th>Model:</th>                   <td>OLS</td>       <th>  Adj. R-squared:    </th> <td>   0.740</td>\n",
              "</tr>\n",
              "<tr>\n",
              "  <th>Method:</th>             <td>Least Squares</td>  <th>  F-statistic:       </th> <td>   85.07</td>\n",
              "</tr>\n",
              "<tr>\n",
              "  <th>Date:</th>             <td>Sat, 14 Aug 2021</td> <th>  Prob (F-statistic):</th> <td>4.32e-41</td>\n",
              "</tr>\n",
              "<tr>\n",
              "  <th>Time:</th>                 <td>19:07:27</td>     <th>  Log-Likelihood:    </th> <td> -118.75</td>\n",
              "</tr>\n",
              "<tr>\n",
              "  <th>No. Observations:</th>      <td>   149</td>      <th>  AIC:               </th> <td>   249.5</td>\n",
              "</tr>\n",
              "<tr>\n",
              "  <th>Df Residuals:</th>          <td>   143</td>      <th>  BIC:               </th> <td>   267.5</td>\n",
              "</tr>\n",
              "<tr>\n",
              "  <th>Df Model:</th>              <td>     5</td>      <th>                     </th>     <td> </td>   \n",
              "</tr>\n",
              "<tr>\n",
              "  <th>Covariance Type:</th>      <td>nonrobust</td>    <th>                     </th>     <td> </td>   \n",
              "</tr>\n",
              "</table>\n",
              "<table class=\"simpletable\">\n",
              "<tr>\n",
              "    <td></td>       <th>coef</th>     <th>std err</th>      <th>t</th>      <th>P>|t|</th>  <th>[0.025</th>    <th>0.975]</th>  \n",
              "</tr>\n",
              "<tr>\n",
              "  <th>const</th> <td>   -3.1559</td> <td>    0.456</td> <td>   -6.924</td> <td> 0.000</td> <td>   -4.057</td> <td>   -2.255</td>\n",
              "</tr>\n",
              "<tr>\n",
              "  <th>x1</th>    <td>    0.3093</td> <td>    0.087</td> <td>    3.569</td> <td> 0.000</td> <td>    0.138</td> <td>    0.481</td>\n",
              "</tr>\n",
              "<tr>\n",
              "  <th>x2</th>    <td>    2.1679</td> <td>    0.659</td> <td>    3.289</td> <td> 0.001</td> <td>    0.865</td> <td>    3.471</td>\n",
              "</tr>\n",
              "<tr>\n",
              "  <th>x3</th>    <td>    0.0339</td> <td>    0.013</td> <td>    2.534</td> <td> 0.012</td> <td>    0.007</td> <td>    0.060</td>\n",
              "</tr>\n",
              "<tr>\n",
              "  <th>x4</th>    <td>    2.2870</td> <td>    0.482</td> <td>    4.743</td> <td> 0.000</td> <td>    1.334</td> <td>    3.240</td>\n",
              "</tr>\n",
              "<tr>\n",
              "  <th>x5</th>    <td>    0.4916</td> <td>    0.319</td> <td>    1.541</td> <td> 0.125</td> <td>   -0.139</td> <td>    1.122</td>\n",
              "</tr>\n",
              "</table>\n",
              "<table class=\"simpletable\">\n",
              "<tr>\n",
              "  <th>Omnibus:</th>       <td> 9.397</td> <th>  Durbin-Watson:     </th> <td>   1.676</td>\n",
              "</tr>\n",
              "<tr>\n",
              "  <th>Prob(Omnibus):</th> <td> 0.009</td> <th>  Jarque-Bera (JB):  </th> <td>   9.328</td>\n",
              "</tr>\n",
              "<tr>\n",
              "  <th>Skew:</th>          <td>-0.561</td> <th>  Prob(JB):          </th> <td> 0.00943</td>\n",
              "</tr>\n",
              "<tr>\n",
              "  <th>Kurtosis:</th>      <td> 3.495</td> <th>  Cond. No.          </th> <td>1.00e+03</td>\n",
              "</tr>\n",
              "</table><br/><br/>Warnings:<br/>[1] Standard Errors assume that the covariance matrix of the errors is correctly specified."
            ],
            "text/plain": [
              "<class 'statsmodels.iolib.summary.Summary'>\n",
              "\"\"\"\n",
              "                            OLS Regression Results                            \n",
              "==============================================================================\n",
              "Dep. Variable:        Happiness_Score   R-squared:                       0.748\n",
              "Model:                            OLS   Adj. R-squared:                  0.740\n",
              "Method:                 Least Squares   F-statistic:                     85.07\n",
              "Date:                Sat, 14 Aug 2021   Prob (F-statistic):           4.32e-41\n",
              "Time:                        19:07:27   Log-Likelihood:                -118.75\n",
              "No. Observations:                 149   AIC:                             249.5\n",
              "Df Residuals:                     143   BIC:                             267.5\n",
              "Df Model:                           5                                         \n",
              "Covariance Type:            nonrobust                                         \n",
              "==============================================================================\n",
              "                 coef    std err          t      P>|t|      [0.025      0.975]\n",
              "------------------------------------------------------------------------------\n",
              "const         -3.1559      0.456     -6.924      0.000      -4.057      -2.255\n",
              "x1             0.3093      0.087      3.569      0.000       0.138       0.481\n",
              "x2             2.1679      0.659      3.289      0.001       0.865       3.471\n",
              "x3             0.0339      0.013      2.534      0.012       0.007       0.060\n",
              "x4             2.2870      0.482      4.743      0.000       1.334       3.240\n",
              "x5             0.4916      0.319      1.541      0.125      -0.139       1.122\n",
              "==============================================================================\n",
              "Omnibus:                        9.397   Durbin-Watson:                   1.676\n",
              "Prob(Omnibus):                  0.009   Jarque-Bera (JB):                9.328\n",
              "Skew:                          -0.561   Prob(JB):                      0.00943\n",
              "Kurtosis:                       3.495   Cond. No.                     1.00e+03\n",
              "==============================================================================\n",
              "\n",
              "Warnings:\n",
              "[1] Standard Errors assume that the covariance matrix of the errors is correctly specified.\n",
              "\"\"\""
            ]
          },
          "metadata": {
            "tags": []
          },
          "execution_count": 15
        }
      ]
    },
    {
      "cell_type": "code",
      "metadata": {
        "id": "a4vk2y0YtzQe"
      },
      "source": [
        "# if p value > 0.05 then remove said index by removing index from X_optimal \n",
        "X_optimal = X[:, [0, 1, 2, 3, 4]]\n",
        "regressor_opt = smf.OLS(endog = y, exog = X_optimal).fit()\n"
      ],
      "execution_count": 16,
      "outputs": []
    },
    {
      "cell_type": "code",
      "metadata": {
        "colab": {
          "base_uri": "https://localhost:8080/",
          "height": 507
        },
        "id": "zI_s14OTEIck",
        "outputId": "d8f8d57b-57ed-4ed5-93ff-35aac06b1079"
      },
      "source": [
        "# Summarize \n",
        "regressor_opt.summary()"
      ],
      "execution_count": 17,
      "outputs": [
        {
          "output_type": "execute_result",
          "data": {
            "text/html": [
              "<table class=\"simpletable\">\n",
              "<caption>OLS Regression Results</caption>\n",
              "<tr>\n",
              "  <th>Dep. Variable:</th>     <td>Happiness_Score</td> <th>  R-squared:         </th> <td>   0.744</td>\n",
              "</tr>\n",
              "<tr>\n",
              "  <th>Model:</th>                   <td>OLS</td>       <th>  Adj. R-squared:    </th> <td>   0.737</td>\n",
              "</tr>\n",
              "<tr>\n",
              "  <th>Method:</th>             <td>Least Squares</td>  <th>  F-statistic:       </th> <td>   104.7</td>\n",
              "</tr>\n",
              "<tr>\n",
              "  <th>Date:</th>             <td>Sat, 14 Aug 2021</td> <th>  Prob (F-statistic):</th> <td>1.27e-41</td>\n",
              "</tr>\n",
              "<tr>\n",
              "  <th>Time:</th>                 <td>19:08:21</td>     <th>  Log-Likelihood:    </th> <td> -119.97</td>\n",
              "</tr>\n",
              "<tr>\n",
              "  <th>No. Observations:</th>      <td>   149</td>      <th>  AIC:               </th> <td>   249.9</td>\n",
              "</tr>\n",
              "<tr>\n",
              "  <th>Df Residuals:</th>          <td>   144</td>      <th>  BIC:               </th> <td>   265.0</td>\n",
              "</tr>\n",
              "<tr>\n",
              "  <th>Df Model:</th>              <td>     4</td>      <th>                     </th>     <td> </td>   \n",
              "</tr>\n",
              "<tr>\n",
              "  <th>Covariance Type:</th>      <td>nonrobust</td>    <th>                     </th>     <td> </td>   \n",
              "</tr>\n",
              "</table>\n",
              "<table class=\"simpletable\">\n",
              "<tr>\n",
              "    <td></td>       <th>coef</th>     <th>std err</th>      <th>t</th>      <th>P>|t|</th>  <th>[0.025</th>    <th>0.975]</th>  \n",
              "</tr>\n",
              "<tr>\n",
              "  <th>const</th> <td>   -3.1116</td> <td>    0.457</td> <td>   -6.808</td> <td> 0.000</td> <td>   -4.015</td> <td>   -2.208</td>\n",
              "</tr>\n",
              "<tr>\n",
              "  <th>x1</th>    <td>    0.2918</td> <td>    0.086</td> <td>    3.381</td> <td> 0.001</td> <td>    0.121</td> <td>    0.462</td>\n",
              "</tr>\n",
              "<tr>\n",
              "  <th>x2</th>    <td>    2.1659</td> <td>    0.662</td> <td>    3.270</td> <td> 0.001</td> <td>    0.857</td> <td>    3.475</td>\n",
              "</tr>\n",
              "<tr>\n",
              "  <th>x3</th>    <td>    0.0331</td> <td>    0.013</td> <td>    2.463</td> <td> 0.015</td> <td>    0.007</td> <td>    0.060</td>\n",
              "</tr>\n",
              "<tr>\n",
              "  <th>x4</th>    <td>    2.4982</td> <td>    0.465</td> <td>    5.378</td> <td> 0.000</td> <td>    1.580</td> <td>    3.416</td>\n",
              "</tr>\n",
              "</table>\n",
              "<table class=\"simpletable\">\n",
              "<tr>\n",
              "  <th>Omnibus:</th>       <td> 9.504</td> <th>  Durbin-Watson:     </th> <td>   1.647</td>\n",
              "</tr>\n",
              "<tr>\n",
              "  <th>Prob(Omnibus):</th> <td> 0.009</td> <th>  Jarque-Bera (JB):  </th> <td>   9.477</td>\n",
              "</tr>\n",
              "<tr>\n",
              "  <th>Skew:</th>          <td>-0.557</td> <th>  Prob(JB):          </th> <td> 0.00875</td>\n",
              "</tr>\n",
              "<tr>\n",
              "  <th>Kurtosis:</th>      <td> 3.535</td> <th>  Cond. No.          </th> <td>    998.</td>\n",
              "</tr>\n",
              "</table><br/><br/>Warnings:<br/>[1] Standard Errors assume that the covariance matrix of the errors is correctly specified."
            ],
            "text/plain": [
              "<class 'statsmodels.iolib.summary.Summary'>\n",
              "\"\"\"\n",
              "                            OLS Regression Results                            \n",
              "==============================================================================\n",
              "Dep. Variable:        Happiness_Score   R-squared:                       0.744\n",
              "Model:                            OLS   Adj. R-squared:                  0.737\n",
              "Method:                 Least Squares   F-statistic:                     104.7\n",
              "Date:                Sat, 14 Aug 2021   Prob (F-statistic):           1.27e-41\n",
              "Time:                        19:08:21   Log-Likelihood:                -119.97\n",
              "No. Observations:                 149   AIC:                             249.9\n",
              "Df Residuals:                     144   BIC:                             265.0\n",
              "Df Model:                           4                                         \n",
              "Covariance Type:            nonrobust                                         \n",
              "==============================================================================\n",
              "                 coef    std err          t      P>|t|      [0.025      0.975]\n",
              "------------------------------------------------------------------------------\n",
              "const         -3.1116      0.457     -6.808      0.000      -4.015      -2.208\n",
              "x1             0.2918      0.086      3.381      0.001       0.121       0.462\n",
              "x2             2.1659      0.662      3.270      0.001       0.857       3.475\n",
              "x3             0.0331      0.013      2.463      0.015       0.007       0.060\n",
              "x4             2.4982      0.465      5.378      0.000       1.580       3.416\n",
              "==============================================================================\n",
              "Omnibus:                        9.504   Durbin-Watson:                   1.647\n",
              "Prob(Omnibus):                  0.009   Jarque-Bera (JB):                9.477\n",
              "Skew:                          -0.557   Prob(JB):                      0.00875\n",
              "Kurtosis:                       3.535   Cond. No.                         998.\n",
              "==============================================================================\n",
              "\n",
              "Warnings:\n",
              "[1] Standard Errors assume that the covariance matrix of the errors is correctly specified.\n",
              "\"\"\""
            ]
          },
          "metadata": {
            "tags": []
          },
          "execution_count": 17
        }
      ]
    }
  ]
}